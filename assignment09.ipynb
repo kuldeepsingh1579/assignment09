{
 "cells": [
  {
   "cell_type": "markdown",
   "id": "f55cb05b-8244-4d55-b1af-5ea734e2cdf6",
   "metadata": {},
   "source": [
    "Question No.1"
   ]
  },
  {
   "cell_type": "markdown",
   "id": "632a3959-981c-4d35-a9a6-6914711f86ed",
   "metadata": {},
   "source": [
    "             ----Abstraction----          \n",
    "Abstraction is used to hide the internal functionality of the function from the users. The users only interact with the basic implementation of the function, but inner working is hidden. User is familiar with that \"what function does\" but they don't know \"how it does.\"   Example-->"
   ]
  },
  {
   "cell_type": "code",
   "execution_count": 4,
   "id": "60579212-e81a-495b-9aa5-04475624b4d7",
   "metadata": {},
   "outputs": [],
   "source": [
    "import abc\n",
    "class car():\n",
    "    \n",
    "    @abc.abstractmethod\n",
    "    def mileage(self):\n",
    "        pass\n",
    "    \n",
    "    @abc.abstractmethod\n",
    "    def top_speed(self):\n",
    "        pass\n",
    "    "
   ]
  },
  {
   "cell_type": "code",
   "execution_count": 15,
   "id": "2dd36ac9-e8f9-4d2a-9e4e-87e0be25d784",
   "metadata": {},
   "outputs": [],
   "source": [
    "class Tesla(car):\n",
    "    def mileage(self):\n",
    "        return \"The mileage is 30kmph\"\n",
    "    def top_speed(self):\n",
    "            return \"250 km/h\"\n",
    "    \n",
    "class suzuki(car):\n",
    "    def mileage(self):\n",
    "        return \"The mileage is 27kmph\"\n",
    "    def top_speed(self):\n",
    "        return \"120km/h\"\n",
    "    "
   ]
  },
  {
   "cell_type": "code",
   "execution_count": 16,
   "id": "0a8b8fe9-8216-46fd-8901-7df3f5950928",
   "metadata": {},
   "outputs": [
    {
     "data": {
      "text/plain": [
       "'250 km/h'"
      ]
     },
     "execution_count": 16,
     "metadata": {},
     "output_type": "execute_result"
    }
   ],
   "source": [
    "t=Tesla()\n",
    "t.mileage()\n",
    "t.top_speed()"
   ]
  },
  {
   "cell_type": "code",
   "execution_count": 11,
   "id": "e463a2ee-04ea-49c5-b9a4-4f903692054f",
   "metadata": {},
   "outputs": [
    {
     "data": {
      "text/plain": [
       "'The mileage is 27kmph'"
      ]
     },
     "execution_count": 11,
     "metadata": {},
     "output_type": "execute_result"
    }
   ],
   "source": [
    "s=suzuki()\n",
    "s.mileage()\n"
   ]
  },
  {
   "cell_type": "markdown",
   "id": "13e18663-8ae4-49a1-b173-1fe63194f47d",
   "metadata": {},
   "source": [
    " Question No.2"
   ]
  },
  {
   "cell_type": "markdown",
   "id": "d87c7554-a87e-4d20-ac9b-5b63795dabd4",
   "metadata": {},
   "source": [
    "DIFFERENCE BETWEEN ABSTRACTION AND ENCAPSULATION ARE---->\n",
    "\n",
    "  Abstraction is a process of hiding the implementation details of a system from the user, and only the functional details will be available to the user end. On the other hand, Encapsulation is a method of wrapping up the data and code acting on the data into a single unit."
   ]
  },
  {
   "cell_type": "code",
   "execution_count": 25,
   "id": "70d4ea4a-2393-4795-a801-9d79a2d42df4",
   "metadata": {},
   "outputs": [],
   "source": [
    "class bank_account :\n",
    "    \n",
    "    def __init__ (self , balance):\n",
    "        self.__balance = balance\n",
    "        \n",
    "    def deposite (self,amount):\n",
    "        self.__balance = self.__balance + amount\n",
    "        \n",
    "    def withdaw (self ,amount):\n",
    "        if self.__balance >= amount :\n",
    "            self.__balance = self.__balance - amount\n",
    "            return True\n",
    "        else :\n",
    "            return \"insufficient balance\"\n",
    "        \n",
    "    def get_balance (self):\n",
    "        return self.__balance"
   ]
  },
  {
   "cell_type": "code",
   "execution_count": 26,
   "id": "fbc76617-d58f-4198-bc43-ca41bc034c83",
   "metadata": {},
   "outputs": [],
   "source": [
    "k= bank_account(5000)"
   ]
  },
  {
   "cell_type": "code",
   "execution_count": 27,
   "id": "5a9cbe35-92c6-4876-b33a-71bf7cb6c51d",
   "metadata": {},
   "outputs": [
    {
     "data": {
      "text/plain": [
       "5000"
      ]
     },
     "execution_count": 27,
     "metadata": {},
     "output_type": "execute_result"
    }
   ],
   "source": [
    "k.get_balance()"
   ]
  },
  {
   "cell_type": "code",
   "execution_count": 28,
   "id": "1a8dd0cd-6022-4edf-b2a3-1b38ac18a861",
   "metadata": {},
   "outputs": [
    {
     "data": {
      "text/plain": [
       "6389"
      ]
     },
     "execution_count": 28,
     "metadata": {},
     "output_type": "execute_result"
    }
   ],
   "source": [
    "k.deposite(1389)\n",
    "k.get_balance()"
   ]
  },
  {
   "cell_type": "code",
   "execution_count": 29,
   "id": "34f41f44-c0a7-4585-80d2-9ed3661f6413",
   "metadata": {},
   "outputs": [
    {
     "data": {
      "text/plain": [
       "'insufficient balance'"
      ]
     },
     "execution_count": 29,
     "metadata": {},
     "output_type": "execute_result"
    }
   ],
   "source": [
    "k.withdaw(8000)"
   ]
  },
  {
   "cell_type": "markdown",
   "id": "a7e77b78-ffc0-49ef-a99d-7bd5eafad9ac",
   "metadata": {},
   "source": [
    "Question No.3"
   ]
  },
  {
   "cell_type": "markdown",
   "id": "b8f7780a-ae41-45e0-a2b8-b3cd0d16a32f",
   "metadata": {},
   "source": [
    "In Python, abc module stands for \"Abstract Base classes\". It is a module that provides mechanisms for defining abstract base classes in Python. An abstract base class is a class that cannot be instantiated and is meant to serve as a common interface for its subclasses.\n",
    "\n",
    "The \"abc\" module is used to define abstract base classes by subclassing the ABC class or using the \"@abc.abstractmethod\" decorator. It allows you to specify a set of methods that must be implemented by any class that inherits from the abstract base class"
   ]
  },
  {
   "cell_type": "markdown",
   "id": "274fbc6e-e580-4271-8bd3-6d0e06e197ed",
   "metadata": {},
   "source": [
    "Question-No.4"
   ]
  },
  {
   "cell_type": "markdown",
   "id": "8f59c97e-aa20-455c-a4bc-ef1c4be8b463",
   "metadata": {},
   "source": [
    "In Python, you can achieve data abstraction through the use of classes and objects. Data abstraction is a concept in object-oriented programming that focuses on hiding the implementation details of data and providing a simplified interface for interacting with it. This allows you to separate the usage of data from its internal representation."
   ]
  },
  {
   "cell_type": "code",
   "execution_count": 30,
   "id": "266fac65-8a31-405f-ba14-b5703b3494cc",
   "metadata": {},
   "outputs": [],
   "source": [
    "class BankAccount:\n",
    "    def __init__(self, account_number, balance):\n",
    "        self._account_number = account_number\n",
    "        self._balance = balance\n",
    "\n",
    "    def deposit(self, amount):\n",
    "        # Perform necessary operations to update the balance\n",
    "        self._balance += amount\n",
    "\n",
    "    def withdraw(self, amount):\n",
    "        # Perform necessary operations to update the balance\n",
    "        if amount <= self._balance:\n",
    "            self._balance -= amount\n",
    "        else:\n",
    "            print(\"Insufficient balance\")\n",
    "\n",
    "    def get_balance(self):\n",
    "        return self._balance\n",
    "\n",
    "    def get_account_number(self):\n",
    "        return self._account_number\n",
    "\n"
   ]
  },
  {
   "cell_type": "code",
   "execution_count": 31,
   "id": "96659884-0b88-4f72-bce9-4bf2ed78d62e",
   "metadata": {},
   "outputs": [
    {
     "name": "stdout",
     "output_type": "stream",
     "text": [
      "1000\n"
     ]
    }
   ],
   "source": [
    "account = BankAccount(\"1234567890\", 1000)\n",
    "print(account.get_balance())"
   ]
  },
  {
   "cell_type": "markdown",
   "id": "a776ff6f-97d0-447a-ba57-39d02d693950",
   "metadata": {},
   "source": [
    "In this example, the BankAccount class abstracts the data related to a bank account. The account_number and balance attributes are encapsulated within the class using the _ prefix to indicate they are intended to be treated as private. The methods deposit(), withdraw(), get_balance(), and get_account_number() provide the interface for interacting with the account's data."
   ]
  },
  {
   "cell_type": "markdown",
   "id": "fd5bbbc2-68fa-4640-b2ba-efcaa3a1e85b",
   "metadata": {},
   "source": [
    "Question_No.5"
   ]
  },
  {
   "cell_type": "markdown",
   "id": "4159e99c-3211-4abd-b59f-eb2940f37d58",
   "metadata": {},
   "source": [
    "o, we cannot create an instance of an abstract class in Python. Abstract classes are meant to be incomplete and act as templates for other classes to inherit from. They cannot be instantiated directly because they are missing some critical functionality, often represented by abstract methods.  For Example-->"
   ]
  },
  {
   "cell_type": "code",
   "execution_count": null,
   "id": "1badc8e6-f3ff-4f45-a57f-ab4fd187abc6",
   "metadata": {},
   "outputs": [],
   "source": [
    "from abc import ABC, abstractmethod\n",
    "\n",
    "class MyAbstractClass(ABC):\n",
    "    @abstractmethod\n",
    "    def my_abstract_method(self):\n",
    "        pass\n",
    "\n",
    "# Attempting to create an instance of the abstract class will raise an error:\n",
    "# TypeError: Can't instantiate abstract class MyAbstractClass with abstract methods my_abstract_method\n",
    "obj = MyAbstractClass()\n"
   ]
  }
 ],
 "metadata": {
  "kernelspec": {
   "display_name": "Python 3 (ipykernel)",
   "language": "python",
   "name": "python3"
  },
  "language_info": {
   "codemirror_mode": {
    "name": "ipython",
    "version": 3
   },
   "file_extension": ".py",
   "mimetype": "text/x-python",
   "name": "python",
   "nbconvert_exporter": "python",
   "pygments_lexer": "ipython3",
   "version": "3.10.8"
  }
 },
 "nbformat": 4,
 "nbformat_minor": 5
}
